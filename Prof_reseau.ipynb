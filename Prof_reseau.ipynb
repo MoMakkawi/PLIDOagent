{
 "cells": [
  {
   "cell_type": "markdown",
   "id": "87b198ef-1cce-4e75-a49b-a129fb20f8f6",
   "metadata": {},
   "source": [
    "<img src=\"images/network_prof.png\" width=\"150\" alt=\"Prof looking at a electronic brain\" style=\"float: left; margin-right: 15px; margin-bottom: 10px;\"> Dans cette partie, nous allons créer de vrais agents pour répondre aux questions des élèves sur le contenu du cours réseau. \n",
    "\n",
    "Avec le professeur de philosophie, nous avons vu les interrogrations de base d'un LLM, avec des appels de bas niveau.\n",
    "Cela demandait pas mal de code, et surtout les interrogrations étaient séquentielles. Quand nous avons demander à plusieurs LLM de plancer sur le devoir, il a fallu attendre la réponse\n",
    "de la première pour lancer la seconde, alors qu'elles auraient faire ce travail en même temps.\n",
    "\n",
    "Voici la liste des modules dont nous aurons besoin dans cette partie"
   ]
  },
  {
   "cell_type": "code",
   "execution_count": 41,
   "id": "c890d334-bf11-46ce-ad5c-c3445ccdbbeb",
   "metadata": {},
   "outputs": [],
   "source": [
    "from dotenv import load_dotenv\n",
    "import os\n",
    "from pypdf import PdfReader\n",
    "\n",
    "from openai import AsyncOpenAI\n",
    "from agents import Agent, Runner, trace, function_tool, OpenAIChatCompletionsModel, input_guardrail, GuardrailFunctionOutput\n",
    "import gradio\n",
    "import asyncio\n"
   ]
  },
  {
   "cell_type": "markdown",
   "id": "63c0c84e-acd3-424b-ba57-6e8a8ab0e831",
   "metadata": {},
   "source": [
    "## Retrouver le contenu du livre \"Programmer l'Internet des Objets\"\n",
    "\n",
    "Dans un premier temps, nous allons convertir en texte les premières pages du livre."
   ]
  },
  {
   "cell_type": "code",
   "execution_count": 9,
   "id": "12884f1a-3e0f-4431-92ee-5a9c36b189aa",
   "metadata": {
    "scrolled": true
   },
   "outputs": [],
   "source": [
    "book = PdfReader(\"./PLIDO_BOOK_en.pdf\")\n",
    "book_content = \"\"\n",
    "for page in book.pages:\n",
    "    text = page.extract_text()\n",
    "    book_content += text"
   ]
  },
  {
   "cell_type": "markdown",
   "id": "ad2d8d52-7ddc-4572-8e7f-3e382c75119d",
   "metadata": {},
   "source": [
    "## Donner l'information au LLM\n",
    "\n",
    "<img src=\"images/agent.png\" width=\"150\" alt=\"Prof looking at a electronic brain\" style=\"float: left; margin-right: 15px; margin-bottom: 10px;\">Une fois les clés API chargées pour plusieurs serveurs (on utilisera par défaut celui de l'Université de Rennes, mais l'utilisation de Gemini est aussi possible). On donne l'URI et le Token pour le service, puis dans un deuxième temps, on précise le modèle LLM utilisé. Si on utilisait par defaut OpenAI, ces lignes seraient inutiles. Lors de l'appel d'```Agent``` , dans le cas d'OpenAI, le nom du modèle est directement indiqué dans une chaîne de caractères. \n",
    "\n",
    "A la création de l'Agent, lui donne un identifiant pour les traces, puis les instructions qui vont lui indiquer son rôle, les limites des réponses et les actions qu'il devra faire dans certain cas. Ces instructions contiennent également l'integralité du livre en ASCII. A noter que l'on demande au LLM de ne pas chercher à répondre en détail si la réponse ne se trouve pas dans le livre."
   ]
  },
  {
   "cell_type": "code",
   "execution_count": 34,
   "id": "ba3baea2-a9a5-47a9-94bb-e4b5fcd978c2",
   "metadata": {},
   "outputs": [],
   "source": [
    "load_dotenv(override=True)\n",
    "\n",
    "rennes_api_key = os.getenv(\"RENNES_API_KEY\")\n",
    "if not rennes_api_key:\n",
    "    print(\"RENNES_API_KEY is missing\")\n",
    "    exit(1)\n",
    "\n",
    "google_api_key = os.getenv(\"GOOGLE_API_KEY\")\n",
    "if not rennes_api_key:\n",
    "    print(\"GOOLE_API_KEY is missing\")\n",
    "    exit(1)\n",
    "    \n",
    "RENNES_BASE_URL = \"https://ragarenn.eskemm-numerique.fr/sso/ch@t/api\"\n",
    "GEMINI_BASE_URL = \"https://generativelanguage.googleapis.com/v1beta/openai/\"\n",
    "\n",
    "rennes_client = AsyncOpenAI(base_url=RENNES_BASE_URL, api_key=rennes_api_key)\n",
    "rennes_model  = OpenAIChatCompletionsModel(model=\"mistralai/Mistral-Small-3.1-24B-Instruct-2503\", openai_client=rennes_client)\n",
    "\n",
    "gemini_client = AsyncOpenAI(base_url=GEMINI_BASE_URL, api_key=google_api_key)\n",
    "gemini_model  = OpenAIChatCompletionsModel(model=\"gemini-2.0-flash\", openai_client=gemini_client)\n",
    "\n",
    "instructions = f\"\"\"Voici le contenu d'un livre sur l'Internet des Objets\n",
    "\n",
    "{book_content}\n",
    "\n",
    "Ta responsabilité est de représenter l'auteur (Laurent Toutain) pour des interactions avec les élèves.\n",
    "Les réponses doivent être professionnelles, claires, et doivent donner envie aux étudiants de s'engager\n",
    "dans le cours, voire de choisir cette formation.\n",
    "Si tu ne connais pas la réponse aux questions, répond Non.\"\"\"\n",
    "\n",
    "book_agent = Agent(name=\"PLIDO Book Agent\", instructions=instructions, model=rennes_model)"
   ]
  },
  {
   "cell_type": "markdown",
   "id": "dfc7e563-0477-4dd9-8e7b-d8f8faddfda5",
   "metadata": {},
   "source": [
    "Un agent se lance en utilisant la coroutine Python ```run``` du module ```Runner``` importé du module ```agents``` d'OpenAI.  L'utilisation du mot-clé ```await``` est indispensable. Ici, la différence avec une fonction est minime, vu que l'on ne lance qu'une coroutine et que l'on attend sa fin pour passer à l'instruction suivante. \n",
    "\n",
    "Vous pouvez relancer la cellule suivante plusieurs fois en changeant la question."
   ]
  },
  {
   "cell_type": "code",
   "execution_count": 33,
   "id": "3883e9ec-d187-4389-8e5b-032482789221",
   "metadata": {},
   "outputs": [
    {
     "name": "stdout",
     "output_type": "stream",
     "text": [
      "Le livre \"Programming the Internet of Things\" de Laurent Toutain ne contient pas de recette pour préparer une omelette. Ce livre est axé sur la programmation et l'architecture des systèmes de l'Internet des objets (IoT). Il couvre des sujets tels que les protocoles de communication, les architectures réseau, la représentation des données, et les implémentations pratiques avec des exemples de code en Python.\n",
      "\n",
      "Si vous cherchez une recette pour préparer une omelette, vous pouvez consulter des livres de cuisine ou des sites web spécialisés en recettes culinaires. Voici une recette simple pour préparer une omelette :\n",
      "\n",
      "### Recette de l'Omelette\n",
      "\n",
      "#### Ingrédients :\n",
      "- 2 à 3 œufs\n",
      "- 2 cuillères à soupe de lait (facultatif)\n",
      "- Sel et poivre\n",
      "- 1 cuillère à soupe de beurre\n",
      "\n",
      "#### Instructions :\n",
      "1. **Préparation des œufs** : Cassez les œufs dans un bol. Ajoutez le lait (si utilisé), du sel et du poivre. Battez les œufs avec une fourchette jusqu'à obtenir un mélange homogène.\n",
      "\n",
      "2. **Chauffage de la poêle** : Faites chauffer le beurre dans une poêle à feu moyen. Assurez-vous que le beurre est bien fondu et qu'il commence à grésiller légèrement.\n",
      "\n",
      "3. **Cuisson des œufs** : Versez le mélange d'œufs dans la poêle. Laissez cuire sans remuer jusqu'à ce que les bords commencent à prendre. Utilisez une spatule pour soulever les bords de l'omelette et laissez le mélange non cuit couler dessous.\n",
      "\n",
      "4. **Finition** : Continuez à cuire jusqu'à ce que l'omelette soit prise mais encore légèrement baveuse au centre. Vous pouvez plier l'omelette en deux ou la rouler si vous préférez une omelette roulée.\n",
      "\n",
      "5. **Service** : Servez l'omelette chaude, accompagnée de pain ou de légumes selon votre préférence.\n",
      "\n",
      "Bon appétit !\n"
     ]
    }
   ],
   "source": [
    "result = await Runner.run(book_agent, \"Est ce que le livre est un bon livre à lire à la plage?\")\n",
    "display(Mardown(result.final_output))"
   ]
  },
  {
   "cell_type": "code",
   "execution_count": 42,
   "id": "487fe2be-936b-40a6-acfe-3dc899c14f5a",
   "metadata": {},
   "outputs": [
    {
     "name": "stdout",
     "output_type": "stream",
     "text": [
      "* Running on local URL:  http://127.0.0.1:7862\n",
      "* To create a public link, set `share=True` in `launch()`.\n"
     ]
    },
    {
     "data": {
      "text/html": [
       "<div><iframe src=\"http://127.0.0.1:7862/\" width=\"100%\" height=\"500\" allow=\"autoplay; camera; microphone; clipboard-read; clipboard-write;\" frameborder=\"0\" allowfullscreen></iframe></div>"
      ],
      "text/plain": [
       "<IPython.core.display.HTML object>"
      ]
     },
     "metadata": {},
     "output_type": "display_data"
    },
    {
     "data": {
      "text/plain": []
     },
     "execution_count": 42,
     "metadata": {},
     "output_type": "execute_result"
    }
   ],
   "source": [
    "async def chat_async(message, history):\n",
    "    \"\"\"Fonction async pour l'agent\"\"\"\n",
    "    try:\n",
    "        result = await Runner.run(book_agent, message)\n",
    "        return result.final_output\n",
    "    except Exception as e:\n",
    "        return f\"Erreur: {e}\"\n",
    "\n",
    "def chat_fn(message, history):\n",
    "    \"\"\"Fonction sync pour ChatInterface\"\"\"\n",
    "    return asyncio.run(chat_async(message, history)) \n",
    "\n",
    "gradio.ChatInterface(chat_fn, type=\"messages\").launch()"
   ]
  },
  {
   "cell_type": "code",
   "execution_count": null,
   "id": "4ec20378-d175-43ed-94a5-1c5f795ad22a",
   "metadata": {},
   "outputs": [],
   "source": []
  },
  {
   "cell_type": "code",
   "execution_count": null,
   "id": "974f2e38-39aa-45f6-bed8-1617c18646e0",
   "metadata": {},
   "outputs": [],
   "source": []
  }
 ],
 "metadata": {
  "kernelspec": {
   "display_name": "Python 3 (ipykernel)",
   "language": "python",
   "name": "python3"
  },
  "language_info": {
   "codemirror_mode": {
    "name": "ipython",
    "version": 3
   },
   "file_extension": ".py",
   "mimetype": "text/x-python",
   "name": "python",
   "nbconvert_exporter": "python",
   "pygments_lexer": "ipython3",
   "version": "3.12.9"
  }
 },
 "nbformat": 4,
 "nbformat_minor": 5
}
